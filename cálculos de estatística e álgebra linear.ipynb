{
  "nbformat": 4,
  "nbformat_minor": 0,
  "metadata": {
    "colab": {
      "name": "Atividade2.ipynb",
      "provenance": []
    },
    "kernelspec": {
      "name": "python3",
      "display_name": "Python 3"
    },
    "language_info": {
      "name": "python"
    }
  },
  "cells": [
    {
      "cell_type": "code",
      "metadata": {
        "colab": {
          "base_uri": "https://localhost:8080/"
        },
        "id": "d-kZGxSr0JD4",
        "outputId": "bcd8b1b8-16f4-4bba-dee1-b900915a0122"
      },
      "source": [
        "!pip install numpy\n",
        "!apt-get -qq install stats_lib"
      ],
      "execution_count": 1,
      "outputs": [
        {
          "output_type": "stream",
          "text": [
            "Requirement already satisfied: numpy in /usr/local/lib/python3.7/dist-packages (1.19.5)\n",
            "E: Unable to locate package stats_lib\n"
          ],
          "name": "stdout"
        }
      ]
    },
    {
      "cell_type": "markdown",
      "metadata": {
        "id": "-9byD76C0_KW"
      },
      "source": [
        "**--- 01- Escreva dois módulos Python, um para os cálculos de estatística e outro para os cálculos de álgebra linear ---**"
      ]
    },
    {
      "cell_type": "code",
      "metadata": {
        "id": "D8torJ_O1H5t"
      },
      "source": [
        "from collections import Counter\n",
        "from functools import reduce\n",
        "import numpy as np\n",
        "import math\n",
        "import random\n",
        "import matplotlib.pyplot as plt"
      ],
      "execution_count": 3,
      "outputs": []
    },
    {
      "cell_type": "code",
      "metadata": {
        "id": "0e9-VD6b2HQ1"
      },
      "source": [
        "data = np.genfromtxt('/content/drive/MyDrive/ciencia_dados/seeds_dataset.txt', delimiter='', usecols=(0,1,2,3,4,5,6))"
      ],
      "execution_count": 4,
      "outputs": []
    },
    {
      "cell_type": "code",
      "metadata": {
        "colab": {
          "base_uri": "https://localhost:8080/"
        },
        "id": "ZuMjqWnA3TVO",
        "outputId": "35f696cc-8804-4e40-9250-04b2694d328f"
      },
      "source": [
        "data"
      ],
      "execution_count": 5,
      "outputs": [
        {
          "output_type": "execute_result",
          "data": {
            "text/plain": [
              "array([[15.26  , 14.84  ,  0.871 , ...,  3.312 ,  2.221 ,  5.22  ],\n",
              "       [14.88  , 14.57  ,  0.8811, ...,  3.333 ,  1.018 ,  4.956 ],\n",
              "       [14.29  , 14.09  ,  0.905 , ...,  3.337 ,  2.699 ,  4.825 ],\n",
              "       ...,\n",
              "       [13.2   , 13.66  ,  0.8883, ...,  3.232 ,  8.315 ,  5.056 ],\n",
              "       [11.84  , 13.21  ,  0.8521, ...,  2.836 ,  3.598 ,  5.044 ],\n",
              "       [12.3   , 13.34  ,  0.8684, ...,  2.974 ,  5.637 ,  5.063 ]])"
            ]
          },
          "metadata": {
            "tags": []
          },
          "execution_count": 5
        }
      ]
    },
    {
      "cell_type": "markdown",
      "metadata": {
        "id": "sgUAAmUs3fyM"
      },
      "source": [
        "**--- 02- Imprimindo a moda e a mediana do comprimento e da largura de todas as instâncias. ---**\n"
      ]
    },
    {
      "cell_type": "code",
      "metadata": {
        "colab": {
          "base_uri": "https://localhost:8080/"
        },
        "id": "aPrY-Z5O3oZC",
        "outputId": "2cfce482-d2f0-4ec0-a8a5-c4b8fd198121"
      },
      "source": [
        "def medianLength(v):\n",
        "  n = len(v)\n",
        "  v_ordenado = sorted(v)\n",
        "  i_centro = n // 2\n",
        "  if n % 2 == 1:\n",
        "    return v_ordenado(i_centro)\n",
        "  else:\n",
        "    i_centro2 = i_centro - 1\n",
        "    return (v_ordenado[i_centro2] + v_ordenado[i_centro]) / 2\n",
        "\n",
        "def medianWidth(v):\n",
        "  n = len(v)\n",
        "  v_ordenado = sorted(v)\n",
        "  i_centro = n // 2\n",
        "  if n % 2 == 1:\n",
        "    return v_ordenado(i_centro)\n",
        "  else:\n",
        "    i_centro2 = i_centro - 1\n",
        "    return (v_ordenado[i_centro2] + v_ordenado[i_centro]) / 2\n",
        "\n",
        "def modaLength(v):\n",
        "  counts = Counter(v)\n",
        "  max_count = max(counts.values())\n",
        "  return [v_i for v_i, count in counts.items()\n",
        "    if count == max_count]\n",
        "\n",
        "def modaWidth(v):\n",
        "  counts = Counter(v)\n",
        "  max_count = max(counts.values())\n",
        "  return [v_i for v_i, count in counts.items()\n",
        "    if count == max_count]\n",
        "\n",
        "\n",
        "print(medianLength(data[:,3]))\n",
        "print(medianWidth(data[:,4]))\n",
        "\n",
        "print(modaLength(data[:,3]))\n",
        "print(modaWidth(data[:,4]))"
      ],
      "execution_count": 6,
      "outputs": [
        {
          "output_type": "stream",
          "text": [
            "5.5235\n",
            "3.237\n",
            "[5.395, 5.236]\n",
            "[3.026]\n"
          ],
          "name": "stdout"
        }
      ]
    },
    {
      "cell_type": "markdown",
      "metadata": {
        "id": "lC6JRu8B4cyB"
      },
      "source": [
        "**--- 03- Imprimindo o desvio padrão dos comprimentos de todos os grãos e explique o resultado.**"
      ]
    },
    {
      "cell_type": "code",
      "metadata": {
        "colab": {
          "base_uri": "https://localhost:8080/"
        },
        "id": "dbukVRC0_VfV",
        "outputId": "57ed035e-e360-4ca3-9a08-a746defeb72b"
      },
      "source": [
        "def media(x):\n",
        "  return sum(x)/len(x)\n",
        "\n",
        "def de_mean(x):\n",
        "  x_bar = media(x)\n",
        "  return [x_i - x_bar for x_i in x]\n",
        "\n",
        "def sum_of_squares(x):\n",
        "  return sum([x_i * x_i for x_i in x])\n",
        "\n",
        "def variance(x):\n",
        "  n = len(x)\n",
        "  deviations = de_mean(x)\n",
        "  return sum_of_squares(deviations) / (n - 1)\n",
        "\n",
        "def desvio_padrao(x):\n",
        "  return math.sqrt(variance(x))\n",
        "\n",
        "print(desvio_padrao(data[:,3]))"
      ],
      "execution_count": 7,
      "outputs": [
        {
          "output_type": "stream",
          "text": [
            "0.4430634777264492\n"
          ],
          "name": "stdout"
        }
      ]
    },
    {
      "cell_type": "markdown",
      "metadata": {
        "id": "spf8jX14_j1G"
      },
      "source": [
        "**--- Explicação ---**\n",
        "Em todas as unidades, as medidas de tendência como: média, mediana e etc. Estão na mesma unidade, até mesmo o intervalo se encontra na mesma unidade já a variância tem unidades ao quadrado das unidades originais."
      ]
    },
    {
      "cell_type": "markdown",
      "metadata": {
        "id": "MGEh31xeBMDD"
      },
      "source": [
        "--- **04- Imprima o desvio padrão das larguras de todos os grãos e explique o resultado**.---"
      ]
    },
    {
      "cell_type": "code",
      "metadata": {
        "id": "lvS59JROqlcM",
        "colab": {
          "base_uri": "https://localhost:8080/"
        },
        "outputId": "47fb15b7-f5b0-463f-bec8-b95123024383"
      },
      "source": [
        "def media(x):\n",
        "  return sum(x)/len(x)\n",
        "\n",
        "def de_mean(x):\n",
        "  x_bar = media(x)\n",
        "  return [x_i - x_bar for x_i in x]\n",
        "\n",
        "def sum_of_squares(x):\n",
        "  return sum([x_i * x_i for x_i in x])\n",
        "\n",
        "def variance(x):\n",
        "  n = len(x)\n",
        "  deviations = de_mean(x)\n",
        "  return sum_of_squares(deviations) / (n - 1)\n",
        "\n",
        "def desvio_padrao(x):\n",
        "  return math.sqrt(variance(x))\n",
        "\n",
        "print(desvio_padrao(data[:,4]))"
      ],
      "execution_count": 8,
      "outputs": [
        {
          "output_type": "stream",
          "text": [
            "0.37771444490658723\n"
          ],
          "name": "stdout"
        }
      ]
    },
    {
      "cell_type": "markdown",
      "metadata": {
        "id": "AQs3ymDYDMgC"
      },
      "source": [
        "**--- Explicação ---** Em todas as unidades, as medidas de tendência como: média, mediana e etc. Estão na mesma unidade, até mesmo o intervalo se encontra na mesma unidade já a variância tem unidades ao quadrado das unidades originais."
      ]
    },
    {
      "cell_type": "markdown",
      "metadata": {
        "id": "GC6XIlydDc3a"
      },
      "source": [
        "**--- 05- Imprima as correlações entre o comprimento e a largura de cada espécie e explique cada resultado. ---**"
      ]
    },
    {
      "cell_type": "code",
      "metadata": {
        "colab": {
          "base_uri": "https://localhost:8080/"
        },
        "id": "Pnw_fw_uDeyS",
        "outputId": "5002744e-c3e9-4072-a96f-7a837af8dc2e"
      },
      "source": [
        "# covariance\n",
        "def dot(v, w):\n",
        "  return sum(v_i * w_i\n",
        "    for v_i, w_i in zip(v, w))\n",
        "\n",
        "def covariance(x, y):\n",
        "  n = len(x)\n",
        "  return dot(de_mean(x), de_mean(y)) / (n - 1)\n",
        "\n",
        "def correlation(x, y):\n",
        "  stdev_x = desvio_padrao(x)\n",
        "  stdev_y = desvio_padrao(y)\n",
        "  if stdev_x > 0 and stdev_y > 0:\n",
        "    return covariance(x, y) / stdev_x / stdev_y\n",
        "  else:\n",
        "    return\n",
        "\n",
        "correlation(data[:,3], data[:,4])"
      ],
      "execution_count": 9,
      "outputs": [
        {
          "output_type": "execute_result",
          "data": {
            "text/plain": [
              "0.8604149377143474"
            ]
          },
          "metadata": {
            "tags": []
          },
          "execution_count": 9
        }
      ]
    },
    {
      "cell_type": "markdown",
      "metadata": {
        "id": "bYOPVBp3Dp_4"
      },
      "source": [
        "**--- Explicação ---**\n",
        "A correlação não possui unidade e está sempre entre -1 e 1. Um número como 0,86 representa uma correlação positiva."
      ]
    },
    {
      "cell_type": "markdown",
      "metadata": {
        "id": "tOv4BdSqGDbT"
      },
      "source": [
        "**--- 06- Gere um gráfico de barras que mostre o comprimento médio e a largura média de cada espécie, com as médias gerais expressas em linhas horizontais, como no exemplo abaixo:---**"
      ]
    },
    {
      "cell_type": "code",
      "metadata": {
        "colab": {
          "base_uri": "https://localhost:8080/",
          "height": 280
        },
        "id": "wEfv2YRRGKtm",
        "outputId": "1c03a4e9-c73c-42ca-a887-08a7c6418d45"
      },
      "source": [
        "barras = [media(data[0:70,3]), media(data[0:70,4]), \n",
        "          media(data[70:140,3]), media(data[70:140,4]),\n",
        "          media(data[140:210,3]), media(data[140:210,4])]\n",
        "  \n",
        "x = ['k_compr', 'k_largura', \n",
        "     'r_compr', 'r_largura', \n",
        "     'c_compr', 'c_largura']\n",
        "\n",
        "plt.bar(x, barras, color=\"m\")\n",
        "\n",
        "valorCompri = media(data[:,3])\n",
        "valorLenght = media(data[:,4])\n",
        "\n",
        "valorCompri1 = media(data[0:70,3])\n",
        "\n",
        "plt.xlabel('Comprimento e Largura')\n",
        "plt.axhline(valorCompri, color=\"k\")\n",
        "plt.axhline(valorLenght, color=\"c\") \n",
        "plt.text(6.9, 3.2, 'Largura media geral', va='center', ha=\"left\") \n",
        "plt.text(6.9, 5.7, 'Comprimento media geral', va='center', ha=\"left\") \n",
        "plt.show()"
      ],
      "execution_count": 14,
      "outputs": [
        {
          "output_type": "display_data",
          "data": {
            "image/png": "[encoded data removed]",
            "text/plain": [
              "<Figure size 432x288 with 1 Axes>"
            ]
          },
          "metadata": {
            "tags": [],
            "needs_background": "light"
          }
        }
      ]
    },
    {
      "cell_type": "markdown",
      "metadata": {
        "id": "9Ce7Jv51Llyb"
      },
      "source": [
        "**--- 07- Gere um gráfico de dispersão que mostre a relação entre a área e o perímetro de cada grão de trigo. ---**"
      ]
    },
    {
      "cell_type": "code",
      "metadata": {
        "colab": {
          "base_uri": "https://localhost:8080/",
          "height": 265
        },
        "id": "U5w7GE3yLsfF",
        "outputId": "9484226f-c2c2-4cb2-f84c-99404dc99125"
      },
      "source": [
        "x = correlation(data[:,0], data[:,1])\n",
        "x2 = correlation(data[:,3], data[:,4])\n",
        "\n",
        "plt.scatter(x, x, color=\"m\")\n",
        "plt.show()"
      ],
      "execution_count": 17,
      "outputs": [
        {
          "output_type": "display_data",
          "data": {
            "image/png": "[encoded data removed]",
            "text/plain": [
              "<Figure size 432x288 with 1 Axes>"
            ]
          },
          "metadata": {
            "tags": [],
            "needs_background": "light"
          }
        }
      ]
    },
    {
      "cell_type": "code",
      "metadata": {
        "colab": {
          "base_uri": "https://localhost:8080/",
          "height": 265
        },
        "id": "FYldIjI4MCmD",
        "outputId": "285a977b-6c26-46d7-feee-e2fb67da9cba"
      },
      "source": [
        "plt.scatter(data[:,0], data[:,1], color=\"c\")\n",
        "plt.show()"
      ],
      "execution_count": 19,
      "outputs": [
        {
          "output_type": "display_data",
          "data": {
            "image/png": "[encoded data removed]",
            "text/plain": [
              "<Figure size 432x288 with 1 Axes>"
            ]
          },
          "metadata": {
            "tags": [],
            "needs_background": "light"
          }
        }
      ]
    },
    {
      "cell_type": "markdown",
      "metadata": {
        "id": "afpRVYf9MVdZ"
      },
      "source": [
        "**--- 08-Usando o cálculo da distância entre dois vetores que aprendemos em aula, informe qual é a semente que mais se parece com a primeira semente da base de dados (índice 0). Sua resposta deverá ser composta pelo índice no vetor e pelo valor da distância, por exemplo: 97, 0.11234. ---**"
      ]
    },
    {
      "cell_type": "code",
      "metadata": {
        "colab": {
          "base_uri": "https://localhost:8080/"
        },
        "id": "IgdhhP76Me7r",
        "outputId": "cc736cdf-7975-408c-b663-23e736893036"
      },
      "source": [
        "def calcula_distancia(array1, array2):\n",
        "    return np.linalg.norm(array1-array2)\n",
        "\n",
        "def pega_vetor_mais_proximo(array_objetivo, array_all):\n",
        "\n",
        "    menor_dist = calcula_distancia(array_objetivo, array_all[0])\n",
        "    id_menor_dist = 0\n",
        "\n",
        "    for i in range(1, array_all.shape[0]):\n",
        "        dist = calcula_distancia(array_objetivo, array_all[i])\n",
        "        if dist < menor_dist:\n",
        "            menor_dist = dist\n",
        "            id_menor_dist = i\n",
        "\n",
        "    return id_menor_dist, menor_dist\n",
        "\n",
        "pega_vetor_mais_proximo(data[0,2], data[1:,2])"
      ],
      "execution_count": 20,
      "outputs": [
        {
          "output_type": "execute_result",
          "data": {
            "text/plain": [
              "(131, 0.00039999999999995595)"
            ]
          },
          "metadata": {
            "tags": []
          },
          "execution_count": 20
        }
      ]
    }
  ]
}